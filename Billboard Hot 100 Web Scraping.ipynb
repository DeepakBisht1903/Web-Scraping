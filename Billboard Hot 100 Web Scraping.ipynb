{
 "cells": [
  {
   "cell_type": "code",
   "execution_count": 1,
   "id": "38d276d4",
   "metadata": {},
   "outputs": [],
   "source": [
    "import requests\n",
    "from bs4 import BeautifulSoup"
   ]
  },
  {
   "cell_type": "code",
   "execution_count": 127,
   "id": "4f9952a9",
   "metadata": {},
   "outputs": [
    {
     "name": "stdout",
     "output_type": "stream",
     "text": [
      "Which year do you want to travel to? Type the date in this format YYYY-MM-DD: 2020-01-01\n"
     ]
    }
   ],
   "source": [
    "date = input(\"Which year do you want to travel to? Type the date in this format YYYY-MM-DD: \")\n",
    "url = \"https://www.billboard.com/charts/hot-100/\"+date\n",
    "response = requests.get(url)\n",
    "html_data = response.text"
   ]
  },
  {
   "cell_type": "code",
   "execution_count": 128,
   "id": "e1bfa84b",
   "metadata": {},
   "outputs": [
    {
     "data": {
      "text/plain": [
       "<title>Billboard Hot 100 – Billboard</title>"
      ]
     },
     "execution_count": 128,
     "metadata": {},
     "output_type": "execute_result"
    }
   ],
   "source": [
    "soup = BeautifulSoup(html_data, \"html.parser\")\n",
    "soup.title"
   ]
  },
  {
   "cell_type": "code",
   "execution_count": 129,
   "id": "c4467e4d",
   "metadata": {},
   "outputs": [],
   "source": [
    "songs=[]\n",
    "for row in soup.find_all(class_=\"o-chart-results-list__item\"):\n",
    "    val = row.select_one(\"h3\")\n",
    "    if val!=None:\n",
    "        songs.append(val.text.replace('\\n','').replace('\\t',''))"
   ]
  },
  {
   "cell_type": "code",
   "execution_count": 131,
   "id": "52ca196c",
   "metadata": {},
   "outputs": [
    {
     "data": {
      "text/plain": [
       "100"
      ]
     },
     "execution_count": 131,
     "metadata": {},
     "output_type": "execute_result"
    }
   ],
   "source": [
    "len(songs)"
   ]
  },
  {
   "cell_type": "code",
   "execution_count": 132,
   "id": "28d5df06",
   "metadata": {},
   "outputs": [
    {
     "data": {
      "text/plain": [
       "['All I Want For Christmas Is You',\n",
       " \"Rockin' Around The Christmas Tree\",\n",
       " 'Jingle Bell Rock',\n",
       " 'A Holly Jolly Christmas',\n",
       " 'Circles',\n",
       " 'Roxanne',\n",
       " \"It's The Most Wonderful Time Of The Year\",\n",
       " 'Someone You Loved',\n",
       " 'Memories',\n",
       " 'Good As Hell',\n",
       " 'Last Christmas',\n",
       " 'Feliz Navidad',\n",
       " 'The Box',\n",
       " 'Dance Monkey',\n",
       " 'Let It Snow, Let It Snow, Let It Snow',\n",
       " 'The Christmas Song (Merry Christmas To You)',\n",
       " '10,000 Hours',\n",
       " 'Lose You To Love Me',\n",
       " \"Ballin'\",\n",
       " 'BOP',\n",
       " 'Sleigh Ride',\n",
       " 'Rudolph The Red-Nosed Reindeer',\n",
       " 'Bad Guy',\n",
       " 'Happy Holiday / The Holiday Season',\n",
       " 'No Guidance',\n",
       " 'Senorita',\n",
       " 'Bandit',\n",
       " \"It's Beginning To Look A Lot Like Christmas\",\n",
       " 'Christmas (Baby Please Come Home)',\n",
       " 'Panini',\n",
       " 'Underneath The Tree',\n",
       " 'Here Comes Santa Claus (Right Down Santa Claus Lane)',\n",
       " 'Hot',\n",
       " 'Old Town Road',\n",
       " 'Truth Hurts',\n",
       " 'Run Rudolph Run',\n",
       " \"(There's No Place Like) Home For The Holidays\",\n",
       " 'HIGHEST IN THE ROOM',\n",
       " 'Heartless',\n",
       " 'Blue Christmas',\n",
       " 'Everything I Wanted',\n",
       " 'White Christmas',\n",
       " 'Jingle Bells',\n",
       " \"Like It's Christmas\",\n",
       " \"Baby It's Cold Outside\",\n",
       " 'Trampoline',\n",
       " 'Woah',\n",
       " 'Futsal Shuffle 2020',\n",
       " \"You're A Mean One, Mr. Grinch\",\n",
       " 'Ran$om',\n",
       " 'Falling',\n",
       " \"Don't Start Now\",\n",
       " 'Adore You',\n",
       " 'One Man Band',\n",
       " 'Hot Girl Bummer',\n",
       " 'Suicidal',\n",
       " 'Lover',\n",
       " 'On Chill',\n",
       " \"Even Though I'm Leaving\",\n",
       " 'No Idea',\n",
       " 'Graveyard',\n",
       " 'My Oh My',\n",
       " 'Juicy',\n",
       " 'The Bones',\n",
       " 'Playing Games',\n",
       " 'Heat',\n",
       " 'Into The Unknown',\n",
       " 'VIBEZ',\n",
       " 'Happy Xmas (War Is Over)',\n",
       " 'Heart On Ice',\n",
       " 'What If I Never Get Over You',\n",
       " 'Blinding Lights',\n",
       " \"Ridin' Roads\",\n",
       " 'Camelot',\n",
       " 'Heartache Medication',\n",
       " 'Start Wit Me',\n",
       " 'Take What You Want',\n",
       " 'Leave Em Alone',\n",
       " 'Hate Me',\n",
       " 'Kinfolks',\n",
       " 'Let Me Know (I Wonder Why Freestyle)',\n",
       " 'Remember You Young',\n",
       " 'Death',\n",
       " \"223's\",\n",
       " 'Slide',\n",
       " 'RITMO (Bad Boys For Life)',\n",
       " 'Watermelon Sugar',\n",
       " 'Homesick',\n",
       " 'Slow Dancing In The Dark',\n",
       " 'Easy',\n",
       " 'Vete',\n",
       " 'Baby Sitter',\n",
       " 'Nice To Meet Ya',\n",
       " 'Yellow Hearts',\n",
       " 'Tip Toe',\n",
       " 'Candy',\n",
       " 'BEST ON EARTH',\n",
       " 'Tusa',\n",
       " 'Enemies',\n",
       " 'South Of The Border']"
      ]
     },
     "execution_count": 132,
     "metadata": {},
     "output_type": "execute_result"
    }
   ],
   "source": [
    "songs"
   ]
  },
  {
   "cell_type": "code",
   "execution_count": null,
   "id": "366a3e6c",
   "metadata": {},
   "outputs": [],
   "source": []
  }
 ],
 "metadata": {
  "kernelspec": {
   "display_name": "Python 3 (ipykernel)",
   "language": "python",
   "name": "python3"
  },
  "language_info": {
   "codemirror_mode": {
    "name": "ipython",
    "version": 3
   },
   "file_extension": ".py",
   "mimetype": "text/x-python",
   "name": "python",
   "nbconvert_exporter": "python",
   "pygments_lexer": "ipython3",
   "version": "3.9.7"
  }
 },
 "nbformat": 4,
 "nbformat_minor": 5
}
