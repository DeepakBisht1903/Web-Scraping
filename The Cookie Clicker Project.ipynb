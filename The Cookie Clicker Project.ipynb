{
 "cells": [
  {
   "cell_type": "markdown",
   "id": "3ae7436f",
   "metadata": {},
   "source": [
    "### Importing Libraries"
   ]
  },
  {
   "cell_type": "code",
   "execution_count": 11,
   "id": "e912b5e4",
   "metadata": {},
   "outputs": [],
   "source": [
    "from selenium import webdriver\n",
    "from selenium.webdriver.chrome.service import Service\n",
    "from webdriver_manager.chrome import ChromeDriverManager\n",
    "import time\n",
    "\n",
    "driver = webdriver.Chrome(service=Service(ChromeDriverManager().install()))\n",
    "driver.get(\"https://orteil.dashnet.org/cookieclicker/\")"
   ]
  },
  {
   "cell_type": "code",
   "execution_count": 12,
   "id": "a2f98667",
   "metadata": {},
   "outputs": [],
   "source": [
    "# To select language\n",
    "english = driver.find_element(by='xpath', value='//*[@id=\"langSelect-EN\"]')\n",
    "english.click()"
   ]
  },
  {
   "cell_type": "code",
   "execution_count": 13,
   "id": "95bc68f9",
   "metadata": {},
   "outputs": [
    {
     "name": "stdout",
     "output_type": "stream",
     "text": [
      "380 cookies\n",
      "per second: 11.2\n"
     ]
    }
   ],
   "source": [
    "# Cookie\n",
    "cookie = driver.find_element(by='id', value='bigCookie')\n",
    "\n",
    "# Upgrade Price Ids\n",
    "upgrades = driver.find_elements(by='css selector', value='.price')\n",
    "ids = [id.get_attribute('id') for id in upgrades]\n",
    "\n",
    "timeout = time.time() + 5\n",
    "five_min = time.time() + 16*5\n",
    "\n",
    "while True:\n",
    "    cookie.click()\n",
    "    \n",
    "    # Every 5 Seconds\n",
    "    if time.time() > timeout:\n",
    "        all_prices = driver.find_elements(by='css selector', value='.price')\n",
    "        item_prices = []\n",
    "        \n",
    "        # Convert <b> text into an integer price.\n",
    "        for price in all_prices:\n",
    "            try:\n",
    "                element_text = price.text\n",
    "                if element_text != '':\n",
    "                    if \",\" in element_text:\n",
    "                        cost = int(element_text.replace(',',''))\n",
    "                    else:\n",
    "                        cost = int(element_text.strip())\n",
    "                    \n",
    "                    item_prices.append(cost)\n",
    "            except:\n",
    "                pass\n",
    "\n",
    "        # Create dictionary of store items and prices\n",
    "        cookie_items = {}\n",
    "        for i in range(len(item_prices)):\n",
    "           \n",
    "            cookie_items[item_prices[i]] = ids[i]\n",
    "\n",
    "        # Get current cookie count\n",
    "        count = driver.find_element(by='id', value='cookies').text\n",
    "        count = count.split()[0]\n",
    "        if \",\" in count:\n",
    "            count = count.replace(',','')\n",
    "        cookie_count = int(count)\n",
    "\n",
    "        # Find upgrades that we can currently afford\n",
    "        affordable_upgrade = {}\n",
    "        for cost, id in cookie_items.items():\n",
    "            if cookie_count > cost:\n",
    "                affordable_upgrade[id] = cost\n",
    "\n",
    "        # Purchase the most expensive affordable upgrade\n",
    "        highest_affordable_upgrade_id = max(affordable_upgrade).replace('Price','')\n",
    "    \n",
    "        try:\n",
    "            driver.find_element(by='id', value=highest_affordable_upgrade_id).click()\n",
    "        except:\n",
    "            pass\n",
    "        timeout = time.time() + 5\n",
    "            \n",
    "\n",
    "    if time.time() > five_min:\n",
    "        cookie_per_s = driver.find_element(by='id', value='cookies').text\n",
    "        print(cookie_per_s)\n",
    "        break\n",
    "\n",
    "driver.quit()"
   ]
  }
 ],
 "metadata": {
  "kernelspec": {
   "display_name": "Python 3 (ipykernel)",
   "language": "python",
   "name": "python3"
  },
  "language_info": {
   "codemirror_mode": {
    "name": "ipython",
    "version": 3
   },
   "file_extension": ".py",
   "mimetype": "text/x-python",
   "name": "python",
   "nbconvert_exporter": "python",
   "pygments_lexer": "ipython3",
   "version": "3.9.7"
  }
 },
 "nbformat": 4,
 "nbformat_minor": 5
}
