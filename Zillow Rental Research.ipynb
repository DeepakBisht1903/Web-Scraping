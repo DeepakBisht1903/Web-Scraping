{
 "cells": [
  {
   "cell_type": "code",
   "execution_count": 15,
   "id": "02fc7bd3",
   "metadata": {},
   "outputs": [],
   "source": [
    "import requests \n",
    "from bs4 import BeautifulSoup\n",
    "import lxml"
   ]
  },
  {
   "cell_type": "code",
   "execution_count": 16,
   "id": "1fb1f901",
   "metadata": {},
   "outputs": [],
   "source": [
    "from selenium import webdriver\n",
    "from webdriver_manager.chrome import ChromeDriverManager\n",
    "from selenium.webdriver.chrome.service import Service\n",
    "import time"
   ]
  },
  {
   "cell_type": "code",
   "execution_count": 17,
   "id": "da544065",
   "metadata": {},
   "outputs": [],
   "source": [
    "url = \"https://www.zillow.com/homes/for_rent/1-_beds/?searchQueryState=%7B%22pagination%22%3A%7B%7D%2C%22usersSearchTerm%22%3Anull%2C%22mapBounds%22%3A%7B%22west%22%3A-122.69219435644531%2C%22east%22%3A-122.17446364355469%2C%22south%22%3A37.703343724016136%2C%22north%22%3A37.847169233586946%7D%2C%22isMapVisible%22%3Atrue%2C%22filterState%22%3A%7B%22fr%22%3A%7B%22value%22%3Atrue%7D%2C%22fsba%22%3A%7B%22value%22%3Afalse%7D%2C%22fsbo%22%3A%7B%22value%22%3Afalse%7D%2C%22nc%22%3A%7B%22value%22%3Afalse%7D%2C%22cmsn%22%3A%7B%22value%22%3Afalse%7D%2C%22auc%22%3A%7B%22value%22%3Afalse%7D%2C%22fore%22%3A%7B%22value%22%3Afalse%7D%2C%22pmf%22%3A%7B%22value%22%3Afalse%7D%2C%22pf%22%3A%7B%22value%22%3Afalse%7D%2C%22mp%22%3A%7B%22max%22%3A3000%7D%2C%22price%22%3A%7B%22max%22%3A872627%7D%2C%22beds%22%3A%7B%22min%22%3A1%7D%7D%2C%22isListVisible%22%3Atrue%2C%22mapZoom%22%3A11%7D\"\n",
    "header = {\"User-Agent\":\"Mozilla/5.0 (Windows NT 10.0; Win64; x64) AppleWebKit/537.36 (KHTML, like Gecko) Chrome/107.0.0.0 Safari/537.36 Edg/107.0.1418.26\",\n",
    "         \"Accept-Language\":\"en-US,en;q=0.9\"}\n",
    "response = requests.get(url, headers = header).text"
   ]
  },
  {
   "cell_type": "code",
   "execution_count": 18,
   "id": "fe8fd9f7",
   "metadata": {},
   "outputs": [
    {
     "data": {
      "text/plain": [
       "<title>Rental Listings - 1498 Rentals | Zillow</title>"
      ]
     },
     "execution_count": 18,
     "metadata": {},
     "output_type": "execute_result"
    }
   ],
   "source": [
    "Soup = BeautifulSoup(response, 'html.parser')\n",
    "Soup.title"
   ]
  },
  {
   "cell_type": "code",
   "execution_count": 19,
   "id": "b1d0c361",
   "metadata": {},
   "outputs": [],
   "source": [
    "all_links = []\n",
    "all_link_elements = Soup.select('#grid-search-results li div a' )\n",
    "for link in all_link_elements:\n",
    "    if 'http' not in link['href']:\n",
    "        all_links.append(f\"https://www.zillow.com{link['href']}\")\n",
    "    else:\n",
    "        all_links.append(link['href'])   \n",
    "all_links = list(set(all_links))"
   ]
  },
  {
   "cell_type": "code",
   "execution_count": 20,
   "id": "549bd83c",
   "metadata": {},
   "outputs": [],
   "source": [
    "all_address = []\n",
    "all_address_elements = Soup.select('#grid-search-results li a address')\n",
    "for address in all_address_elements:\n",
    "    if '|' in address.text:\n",
    "        all_address.append(address.text.split('|')[-1])\n",
    "    elif '#' in address.text:\n",
    "        all_address.append(address.text.split('#')[-1])"
   ]
  },
  {
   "cell_type": "code",
   "execution_count": 26,
   "id": "c917750e",
   "metadata": {},
   "outputs": [],
   "source": [
    "all_prices = []\n",
    "all_price_elements = Soup.select('#grid-search-results span')\n",
    "for price in all_price_elements:\n",
    "    if price.text:\n",
    "        if '$' in price.text:\n",
    "            if '+ 2' not in price.text:\n",
    "                if '/' in price.text:\n",
    "                    all_prices.append(price.text.split('/')[0])\n",
    "                else:\n",
    "                    all_prices.append(price.text.split('+')[0])"
   ]
  },
  {
   "cell_type": "code",
   "execution_count": 27,
   "id": "cf939318",
   "metadata": {},
   "outputs": [
    {
     "name": "stdout",
     "output_type": "stream",
     "text": [
      "9 9 9\n"
     ]
    }
   ],
   "source": [
    "print(len(all_address), len(all_links), len(all_prices))"
   ]
  },
  {
   "cell_type": "code",
   "execution_count": 28,
   "id": "03e4d547",
   "metadata": {},
   "outputs": [
    {
     "name": "stdout",
     "output_type": "stream",
     "text": [
      "['$2,095', '$2,404', '$2,195', '$2,326', '$2,475', '$2,738', '$2,400', '$2,250', '$2,487']\n"
     ]
    }
   ],
   "source": [
    "print(all_prices)"
   ]
  },
  {
   "cell_type": "markdown",
   "id": "b794a1d5",
   "metadata": {},
   "source": [
    "### Creating spreadsheet using Google Forms"
   ]
  },
  {
   "cell_type": "code",
   "execution_count": 32,
   "id": "c81d8ba0",
   "metadata": {},
   "outputs": [],
   "source": [
    "driver = webdriver.Chrome(service=Service(ChromeDriverManager().install()))\n",
    "\n",
    "for i in range(len(all_links)):\n",
    "\n",
    "    driver.get(\"https://docs.google.com/forms/d/e/1FAIpQLSdTUFpcg0c1pC-J1fLV-itFoMsRWgIGykyXijXfOxyXsXCxXw/viewform?usp=sf_link\")\n",
    "    time.sleep(1)\n",
    "    \n",
    "    question_1 = driver.find_element(by='xpath', value='//*[@id=\"mG61Hd\"]/div[2]/div/div[2]/div[1]/div/div/div[2]/div/div[1]/div/div[1]/input')\n",
    "    question_1.send_keys(all_address[i])\n",
    "    \n",
    "    question_2 = driver.find_element(by='xpath', value='//*[@id=\"mG61Hd\"]/div[2]/div/div[2]/div[2]/div/div/div[2]/div/div[1]/div/div[1]/input')\n",
    "    question_2.send_keys(all_prices[i])\n",
    "    \n",
    "    question_3 = driver.find_element(by='xpath', value='//*[@id=\"mG61Hd\"]/div[2]/div/div[2]/div[3]/div/div/div[2]/div/div[1]/div/div[1]/input')\n",
    "    question_3.send_keys(all_links[i])\n",
    "    \n",
    "    driver.find_element(by='xpath', value = '//*[@id=\"mG61Hd\"]/div[2]/div/div[3]/div[1]/div[1]/div/span/span').click()\n",
    "\n",
    "driver.quit()"
   ]
  }
 ],
 "metadata": {
  "kernelspec": {
   "display_name": "Python 3 (ipykernel)",
   "language": "python",
   "name": "python3"
  },
  "language_info": {
   "codemirror_mode": {
    "name": "ipython",
    "version": 3
   },
   "file_extension": ".py",
   "mimetype": "text/x-python",
   "name": "python",
   "nbconvert_exporter": "python",
   "pygments_lexer": "ipython3",
   "version": "3.9.7"
  }
 },
 "nbformat": 4,
 "nbformat_minor": 5
}
